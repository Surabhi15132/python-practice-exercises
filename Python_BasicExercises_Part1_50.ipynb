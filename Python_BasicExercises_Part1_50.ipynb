{
 "cells": [
  {
   "cell_type": "markdown",
   "id": "73aa9259",
   "metadata": {},
   "source": [
    "Exercise 1: Write a Python program to print the following string in a specific format (see the output).\n",
    "\n",
    "Sample String : \"Twinkle, twinkle, little star, How I wonder what you are! Up above the world so high, Like a diamond in the sky. Twinkle, twinkle, little star, How I wonder what you are\"\n",
    "\n",
    "Output :\n",
    "\n",
    "Twinkle, twinkle, little star,\n",
    "\tHow I wonder what you are! \n",
    "\t\tUp above the world so high,   \t\t\n",
    "\t\tLike a diamond in the sky. \n",
    "Twinkle, twinkle, little star, \n",
    "\tHow I wonder what you are"
   ]
  },
  {
   "cell_type": "code",
   "execution_count": 1,
   "id": "3331ef20",
   "metadata": {},
   "outputs": [
    {
     "name": "stdout",
     "output_type": "stream",
     "text": [
      "\n",
      "Twinkle, twinkle, little star,\n",
      "    How I wonder what you are! \n",
      "        Up above the world so high,\n",
      "        Like a diamond in the sky. \n",
      "Twinkle, twinkle, little star, \n",
      "    How I wonder what you are\n",
      "\n"
     ]
    }
   ],
   "source": [
    "#make a multiple line string variable\n",
    "str = \"\"\"\n",
    "Twinkle, twinkle, little star,\n",
    "    How I wonder what you are! \n",
    "        Up above the world so high,\n",
    "        Like a diamond in the sky. \n",
    "Twinkle, twinkle, little star, \n",
    "    How I wonder what you are\n",
    "\"\"\"\n",
    "\n",
    "print(str)"
   ]
  },
  {
   "cell_type": "markdown",
   "id": "88d7a26e",
   "metadata": {},
   "source": [
    "Exercise 2. Write a Python program to find out what version of Python you are using."
   ]
  },
  {
   "cell_type": "code",
   "execution_count": 2,
   "id": "ebc38159",
   "metadata": {},
   "outputs": [
    {
     "name": "stdout",
     "output_type": "stream",
     "text": [
      "Python version 3.11.5 | packaged by Anaconda, Inc. | (main, Sep 11 2023, 13:26:23) [MSC v.1916 64 bit (AMD64)]\n",
      "Python version info. sys.version_info(major=3, minor=11, micro=5, releaselevel='final', serial=0)\n"
     ]
    }
   ],
   "source": [
    "import sys # Import the sys module to access system-specific parameters and functions\n",
    "\n",
    "print(\"Python version\", sys.version)\n",
    "print(\"Python version info.\", sys.version_info)"
   ]
  },
  {
   "cell_type": "markdown",
   "id": "a80f7052",
   "metadata": {},
   "source": [
    "Exercise 3. Write a Python program to display the current date and time.\n",
    "Sample Output :\n",
    "Current date and time :\n",
    "2014-07-05 14:34:14"
   ]
  },
  {
   "cell_type": "code",
   "execution_count": 6,
   "id": "e0113cde",
   "metadata": {},
   "outputs": [
    {
     "name": "stdout",
     "output_type": "stream",
     "text": [
      "Current date and time =  2024-03-13 14:52:25\n"
     ]
    }
   ],
   "source": [
    "import datetime # Import the 'datetime' module to work with date and time\n",
    "\n",
    "# Get the current date and time\n",
    "curr_datetime = datetime.datetime.now()\n",
    "\n",
    "print(\"Current date and time = \", curr_datetime.strftime(\"%Y-%m-%d %H:%M:%S\")) # Use the 'strftime' method to format the datetime object as a string with the desired format"
   ]
  },
  {
   "cell_type": "markdown",
   "id": "c01e72e3",
   "metadata": {},
   "source": [
    "Exercise 4. Write a Python program that calculates the area of a circle based on the radius entered by the user.\n",
    "\n",
    "Sample Output :\n",
    "r = 1.1\n",
    "Area = 3.8013271108436504"
   ]
  },
  {
   "cell_type": "code",
   "execution_count": 7,
   "id": "1ef4ce38",
   "metadata": {},
   "outputs": [
    {
     "name": "stdout",
     "output_type": "stream",
     "text": [
      "Area of circle =  3.8013271108436504\n"
     ]
    }
   ],
   "source": [
    "import math\n",
    "\n",
    "pi_value = math.pi #pi value from math module\n",
    "\n",
    "r = 1.1 #assigned 1.1 value to circle radius\n",
    "\n",
    "area = pi_value * r * r #formula of area of cirle\n",
    "\n",
    "print(\"Area of circle = \", area)"
   ]
  },
  {
   "cell_type": "markdown",
   "id": "d974b0a8",
   "metadata": {},
   "source": [
    "Exercise 5. Write a Python program that accepts the user's first and last name and prints them in reverse order with a space between them."
   ]
  },
  {
   "cell_type": "code",
   "execution_count": 12,
   "id": "1946a6d3",
   "metadata": {},
   "outputs": [
    {
     "name": "stdout",
     "output_type": "stream",
     "text": [
      "Enter your first name: surabhi\n",
      "Enter your last name: pandey\n",
      "pandey surabhi\n"
     ]
    }
   ],
   "source": [
    "first_name = input(\"Enter your first name: \")\n",
    "last_name = input(\"Enter your last name: \")\n",
    "\n",
    "print(last_name + \" \" + first_name)"
   ]
  },
  {
   "cell_type": "markdown",
   "id": "40eccaa3",
   "metadata": {},
   "source": [
    "Exercise 6. Write a Python program that accepts a sequence of comma-separated numbers from the user and generates a list and a tuple of those numbers.\n",
    "Sample data : 3, 5, 7, 23"
   ]
  },
  {
   "cell_type": "code",
   "execution_count": 14,
   "id": "ccde1c1d",
   "metadata": {},
   "outputs": [
    {
     "name": "stdout",
     "output_type": "stream",
     "text": [
      "Input comma-separated numbers: 3,4,56,7\n",
      "['3', '4', '56', '7']\n",
      "('3', '4', '56', '7')\n"
     ]
    }
   ],
   "source": [
    "values = input(\"Input comma-separated numbers: \")\n",
    "\n",
    "list_value = values.split(\",\") # Split the 'values' string into a list using commas as separators and store it in the 'list_value' variable\n",
    "tuple_value = tuple(list_value)\n",
    "\n",
    "print(list_value)\n",
    "print(tuple_value)"
   ]
  },
  {
   "cell_type": "markdown",
   "id": "174755d6",
   "metadata": {},
   "source": [
    "Exercise 7. Write a Python program that accepts a filename from the user and prints the extension of the file.\n",
    "Sample filename : abc.java\n",
    "Output : java"
   ]
  },
  {
   "cell_type": "code",
   "execution_count": 18,
   "id": "bd7d9480",
   "metadata": {},
   "outputs": [
    {
     "name": "stdout",
     "output_type": "stream",
     "text": [
      "Enter filename with extension: abc_val.java\n",
      "java\n"
     ]
    }
   ],
   "source": [
    "filename = input(\"Enter filename with extension: \")\n",
    "f_extension = filename.split(\".\")\n",
    "print(f_extension[-1])"
   ]
  },
  {
   "cell_type": "markdown",
   "id": "fc57f338",
   "metadata": {},
   "source": [
    "Exercise 8. Write a Python program to display the first and last colors from the following list.\n",
    "color_list = [\"Red\",\"Green\",\"White\" ,\"Black\"]"
   ]
  },
  {
   "cell_type": "code",
   "execution_count": 20,
   "id": "1c75221b",
   "metadata": {},
   "outputs": [
    {
     "name": "stdout",
     "output_type": "stream",
     "text": [
      "First color from the list:  Red\n",
      "Last color in the list:  Black\n",
      "Red Black\n"
     ]
    }
   ],
   "source": [
    "list_color = [\"Red\", \"Green\", \"White\", \"Black\"]\n",
    "print(\"First color from the list: \", list_color[0])\n",
    "print(\"Last color in the list: \",list_color[-1])\n",
    "print(\"%s %s\" % (list_color[0],list_color[-1]))"
   ]
  },
  {
   "cell_type": "markdown",
   "id": "c2ff65a0",
   "metadata": {},
   "source": [
    "Exercise 9. Write a Python program to display the examination schedule. (extract the date from exam_st_date).\n",
    "exam_date = (11, 06, 2024)\n",
    "Sample Output: The examination will start from : 11 / 06 / 2024"
   ]
  },
  {
   "cell_type": "code",
   "execution_count": 28,
   "id": "13afa8d7",
   "metadata": {},
   "outputs": [
    {
     "name": "stdout",
     "output_type": "stream",
     "text": [
      "The examination date = 11 / 6 / 2024\n",
      "11  /  6  /  2024\n"
     ]
    }
   ],
   "source": [
    "exam_date = (11, 6, 2024)\n",
    "\n",
    "# Print the exam start date using string formatting\n",
    "# The '%i' placeholders are filled with the values from the 'exam_date' tuple\n",
    "print(\"The examination date = %i / %i / %i\" % exam_date)\n",
    "\n",
    "#Python can unpack sequences in tuple object naturally\n",
    "date, month, year = (11, 6, 2024) \n",
    "print(date, \" / \", month, \" / \", year)"
   ]
  },
  {
   "cell_type": "markdown",
   "id": "f020a4a7",
   "metadata": {},
   "source": [
    "Exercise 10. Write a Python program that accepts an integer (n) and computes the value of n+nn+nnn.\n",
    "Sample value of n is 5\n",
    "Expected Result : 615"
   ]
  },
  {
   "cell_type": "code",
   "execution_count": 32,
   "id": "8cb5bb0d",
   "metadata": {},
   "outputs": [
    {
     "name": "stdout",
     "output_type": "stream",
     "text": [
      "Enter any integer value = 5\n",
      "615\n"
     ]
    }
   ],
   "source": [
    "n = int(input(\"Enter any integer value = \"))\n",
    "\n",
    "# Create new integers 'n1', 'n2', and 'n3' by concatenating 'n' with itself one, two, and three times, respectively\n",
    "n1 = int(\"%s\" % n) #Convert 'n' to an integer\n",
    "n2 = int(\"%s%s\" % (n,n)) #Concatenate 'n' with itself and convert to an integer\n",
    "n3 = int(\"%s%s%s\" % (n,n,n)) #Concatenate 'n' with itself twice and convert to an integer\n",
    "\n",
    "print(n1 + n2 + n3)"
   ]
  },
  {
   "cell_type": "markdown",
   "id": "7691b943",
   "metadata": {},
   "source": [
    "Exercise 11. Write a Python program to print the documents (syntax, description etc.) of Python built-in function(s).\n",
    "Sample function : abs()\n",
    "Expected Result :\n",
    "abs(number) -> number\n",
    "Return the absolute value of the argument."
   ]
  },
  {
   "cell_type": "code",
   "execution_count": 37,
   "id": "8b90e1cd",
   "metadata": {},
   "outputs": [
    {
     "name": "stdout",
     "output_type": "stream",
     "text": [
      "Return the absolute value of the argument.\n"
     ]
    }
   ],
   "source": [
    "# Print the docstring (documentation) of the 'abs' function\n",
    "print(abs.__doc__)"
   ]
  },
  {
   "cell_type": "markdown",
   "id": "e566d4f0",
   "metadata": {},
   "source": [
    "Exercise 12. Write a Python program that prints the calendar for a given month and year.\n",
    "Note : Use 'calendar' module."
   ]
  },
  {
   "cell_type": "code",
   "execution_count": 44,
   "id": "12c0a42d",
   "metadata": {},
   "outputs": [
    {
     "name": "stdout",
     "output_type": "stream",
     "text": [
      "Enter a year: 1845\n",
      "Enter a month: 3\n",
      "     March 1845\n",
      "Mo Tu We Th Fr Sa Su\n",
      "                1  2\n",
      " 3  4  5  6  7  8  9\n",
      "10 11 12 13 14 15 16\n",
      "17 18 19 20 21 22 23\n",
      "24 25 26 27 28 29 30\n",
      "31\n",
      "\n"
     ]
    }
   ],
   "source": [
    "import calendar\n",
    "\n",
    "y = int(input(\"Enter a year: \"))\n",
    "m = int(input(\"Enter a month: \"))\n",
    "\n",
    "print(calendar.month(y,m))"
   ]
  },
  {
   "cell_type": "markdown",
   "id": "7948441c",
   "metadata": {},
   "source": [
    "Exercise 13. Write a Python program to print the following 'here document'.\n",
    "Sample string :\n",
    "a string that you \"don't\" have to escape\n",
    "This\n",
    "is a ....... multi-line\n",
    "heredoc string --------> example"
   ]
  },
  {
   "cell_type": "code",
   "execution_count": 45,
   "id": "d79efb35",
   "metadata": {},
   "outputs": [
    {
     "name": "stdout",
     "output_type": "stream",
     "text": [
      "\n",
      "a string that you \"don't\" have to escape\n",
      "This\n",
      "is a  ....... multi-line\n",
      "heredoc string --------> example\n",
      "\n"
     ]
    }
   ],
   "source": [
    "# Use triple double-quotes to create a multi-line string\n",
    "print(\"\"\"\n",
    "a string that you \"don't\" have to escape\n",
    "This\n",
    "is a  ....... multi-line\n",
    "heredoc string --------> example\n",
    "\"\"\")"
   ]
  },
  {
   "cell_type": "markdown",
   "id": "5d677d3b",
   "metadata": {},
   "source": [
    "Exercise 14. Write a Python program to calculate the number of days between two dates.\n",
    "Sample dates : (2014, 7, 2), (2014, 7, 11)\n",
    "Expected output : 9 days"
   ]
  },
  {
   "cell_type": "code",
   "execution_count": 50,
   "id": "f33ee68c",
   "metadata": {},
   "outputs": [
    {
     "name": "stdout",
     "output_type": "stream",
     "text": [
      "Enter first date in this format (YYYY-MM-DD) = 2024/12/11\n",
      "Enter last date in this format (YYYY-MM-DD) = 2012/08/12\n",
      "Invalid date format. Use YYYY-MM-DD\n"
     ]
    }
   ],
   "source": [
    "from datetime import datetime\n",
    "\n",
    "date_1 = input(\"Enter first date in this format (YYYY-MM-DD) = \")\n",
    "date_2 = input(\"Enter last date in this format (YYYY-MM-DD) = \")\n",
    "\n",
    "try:\n",
    "    date_f = datetime.strptime(date_1,'%Y-%m-%d')\n",
    "    date_l = datetime.strptime(date_2,'%Y-%m-%d')\n",
    "    number_of_days = abs(date_l - date_f)\n",
    "    print(number_of_days.days)\n",
    "except ValueError:\n",
    "    print(\"Invalid date format. Use YYYY-MM-DD\")"
   ]
  },
  {
   "cell_type": "markdown",
   "id": "350dceb9",
   "metadata": {},
   "source": [
    "Exercise 15. Write a Python program to get the area and volume of a sphere with radius six.\n",
    "A = 4πr^2\n",
    "V = 4/3*πr^3"
   ]
  },
  {
   "cell_type": "code",
   "execution_count": 52,
   "id": "14738519",
   "metadata": {},
   "outputs": [
    {
     "name": "stdout",
     "output_type": "stream",
     "text": [
      "Enter sphere radius = 6\n",
      "Area of sphere =  452.3893421169302\n",
      "Volume of sphere =  904.7786842338603\n"
     ]
    }
   ],
   "source": [
    "import math\n",
    "\n",
    "pi_value = math.pi #taken pi value from math module\n",
    "radius = float(input(\"Enter sphere radius = \"))\n",
    "\n",
    "area_of_sphere = 4 * pi_value * (radius**2)\n",
    "print(\"Area of sphere = \", area_of_sphere)\n",
    "\n",
    "volume_of_sphere = (4/3) * pi_value * (radius**3)\n",
    "print(\"Volume of sphere = \", volume_of_sphere)"
   ]
  },
  {
   "cell_type": "markdown",
   "id": "95706ab2",
   "metadata": {},
   "source": [
    "Exercise 16. Write a Python program to calculate the difference between a given number and 17. If the number is greater than 17, return twice the absolute difference."
   ]
  },
  {
   "cell_type": "code",
   "execution_count": 56,
   "id": "062f2cdc",
   "metadata": {},
   "outputs": [
    {
     "name": "stdout",
     "output_type": "stream",
     "text": [
      "Enter a number = 14\n",
      "Difference of user entered number and 17 =  3\n"
     ]
    }
   ],
   "source": [
    "num = int(input(\"Enter a number = \"))\n",
    "diff = num - 17\n",
    "if num > 17:\n",
    "    print(\"User entered number is greater than 17, so computed difference will be the twice of the absolute difference\")\n",
    "    diff = diff*2\n",
    "else:\n",
    "    diff = abs(diff)\n",
    "\n",
    "print(\"Difference of user entered number and 17 = \", diff)"
   ]
  },
  {
   "cell_type": "markdown",
   "id": "81dd8bcd",
   "metadata": {},
   "source": [
    "Exercise 17. Write a Python program to calculate the sum of three given numbers. If the values are equal, return three times their sum."
   ]
  },
  {
   "cell_type": "code",
   "execution_count": 61,
   "id": "308c9e17",
   "metadata": {},
   "outputs": [
    {
     "name": "stdout",
     "output_type": "stream",
     "text": [
      "Enter first number = 3\n",
      "Enter second number = 3\n",
      "Enter third number = 3\n",
      "All 3 numbers are equal, then return three times their sum\n",
      "Sum of three numbers =  27\n"
     ]
    }
   ],
   "source": [
    "a = int(input(\"Enter first number = \"))\n",
    "b = int(input(\"Enter second number = \"))\n",
    "c = int(input(\"Enter third number = \"))\n",
    "\n",
    "if a == b and b == c:\n",
    "    print(\"All 3 numbers are equal, then return three times their sum\")\n",
    "    sum = (a+b+c)*3\n",
    "else:\n",
    "    sum = a+b+c\n",
    "print(\"Sum of three numbers = \", sum)"
   ]
  },
  {
   "cell_type": "markdown",
   "id": "4e629b91",
   "metadata": {},
   "source": [
    "Exercise 18. Write a Python program to get a newly-generated string from a given string where \"Is\" has been added to the front. Return the string unchanged if the given string already begins with \"Is\"."
   ]
  },
  {
   "cell_type": "code",
   "execution_count": 63,
   "id": "2d1367b3",
   "metadata": {},
   "outputs": [
    {
     "name": "stdout",
     "output_type": "stream",
     "text": [
      "Enter a string: empty\n",
      "Isempty\n"
     ]
    }
   ],
   "source": [
    "text = input(\"Enter a string: \")\n",
    "\n",
    "if len(text) >= 2 and text[:2] == 'Is':\n",
    "    print(text)\n",
    "else:\n",
    "    print('Is'+text)"
   ]
  },
  {
   "cell_type": "markdown",
   "id": "99150188",
   "metadata": {},
   "source": [
    "Exercise 19. Write a Python program that returns a string that is n (non-negative integer) copies of a given string."
   ]
  },
  {
   "cell_type": "code",
   "execution_count": 64,
   "id": "5fc07b76",
   "metadata": {},
   "outputs": [
    {
     "name": "stdout",
     "output_type": "stream",
     "text": [
      "Enter a string: .test\n",
      "Enter number of copies do you want of string= 3\n",
      ".test.test.test\n"
     ]
    }
   ],
   "source": [
    "str1 = input(\"Enter a string: \")\n",
    "number_of_copies = int(input(\"Enter number of copies do you want of string= \"))\n",
    "\n",
    "result = str1 * number_of_copies\n",
    "\n",
    "print(result)"
   ]
  },
  {
   "cell_type": "markdown",
   "id": "6ba3c5f6",
   "metadata": {},
   "source": [
    "Exercise 20. Write a Python program that determines whether a given number (accepted from the user) is even or odd, and prints an appropriate message to the user."
   ]
  },
  {
   "cell_type": "code",
   "execution_count": 68,
   "id": "9b809912",
   "metadata": {},
   "outputs": [
    {
     "name": "stdout",
     "output_type": "stream",
     "text": [
      "Enter any number = 115\n",
      "Number is Odd\n"
     ]
    }
   ],
   "source": [
    "num = int(input(\"Enter any number = \"))\n",
    "\n",
    "if num % 2 == 0:\n",
    "    print(\"Number is Even\")\n",
    "else:\n",
    "    print(\"Number is Odd\")"
   ]
  },
  {
   "cell_type": "markdown",
   "id": "d9719416",
   "metadata": {},
   "source": [
    "Exercise 21. Write a Python program to count the number 4 in a given list."
   ]
  },
  {
   "cell_type": "code",
   "execution_count": 73,
   "id": "58be8c67",
   "metadata": {},
   "outputs": [
    {
     "name": "stdout",
     "output_type": "stream",
     "text": [
      "Enter a list of numbers by comma separated = 3,4,4\n",
      "['3', '4', '4']\n",
      "Enter a number you want to find in list1\n",
      "Count of 1 in list is 0 \n"
     ]
    }
   ],
   "source": [
    "values = input(\"Enter a list of numbers by comma separated = \")\n",
    "list_value = values.split(\",\")\n",
    "print(list_value)\n",
    "\n",
    "#count number of find_value in list_value\n",
    "find_value = int(input(\"Enter a number you want to find in list\"))\n",
    "\n",
    "count = 0\n",
    "\n",
    "for x in list_value:\n",
    "    if int(x) == find_value:\n",
    "        count += 1\n",
    "\n",
    "print(f\"Count of {find_value} in list is {count} \")"
   ]
  },
  {
   "cell_type": "markdown",
   "id": "94e41276",
   "metadata": {},
   "source": [
    "Exercise 22. Write a Python program to get n (non-negative integer) copies of the first 2 characters of a given string. Return n copies of the whole string if the length is less than 2."
   ]
  },
  {
   "cell_type": "code",
   "execution_count": 77,
   "id": "82eec608",
   "metadata": {},
   "outputs": [
    {
     "name": "stdout",
     "output_type": "stream",
     "text": [
      "Enter a string: richer\n",
      "How many copies do you want = 5\n",
      "5 copies of the first 2 characters of a given string ririririri\n"
     ]
    }
   ],
   "source": [
    "str1 = input(\"Enter a string: \")\n",
    "n = int(input(\"How many copies do you want = \"))\n",
    "\n",
    "if len(str1) > 2:\n",
    "    first_two_char = str1[:2]\n",
    "    print(f\"{n} copies of the first 2 characters of a given string\", first_two_char*n)\n",
    "else:\n",
    "    print(f\"{n} copies of the whole string if the length is less than 2\", str1*n)"
   ]
  },
  {
   "cell_type": "markdown",
   "id": "41980e33",
   "metadata": {},
   "source": [
    "Exercise 23. Write a Python program to test whether a passed letter is a vowel or not."
   ]
  },
  {
   "cell_type": "code",
   "execution_count": 82,
   "id": "b7735a8f",
   "metadata": {},
   "outputs": [
    {
     "name": "stdout",
     "output_type": "stream",
     "text": [
      "Enter a letter to check if it is vowel: o\n",
      "o is vowel\n"
     ]
    }
   ],
   "source": [
    "letter = input(\"Enter a letter to check if it is vowel: \")\n",
    "\n",
    "if letter in ['a', 'e', 'i', 'o', 'u']:\n",
    "    print(f\"{letter} is vowel\")\n",
    "else:\n",
    "    print(f\"{letter} is not vowel\")"
   ]
  },
  {
   "cell_type": "markdown",
   "id": "d0e9ba0d",
   "metadata": {},
   "source": [
    "Exercise 24. Write a Python program that checks whether a specified value is contained within a group of values.\n",
    "Test Data :\n",
    "3 -> [1, 5, 8, 3] : True\n",
    "-1 -> [1, 5, 8, 3] : False"
   ]
  },
  {
   "cell_type": "code",
   "execution_count": 88,
   "id": "7db3ea8d",
   "metadata": {},
   "outputs": [
    {
     "name": "stdout",
     "output_type": "stream",
     "text": [
      "Enter numbers comma separated = 2,3,4,5\n",
      "['2', '3', '4', '5']\n",
      "Enter value to find in list = 1\n",
      "1 is not in the list\n"
     ]
    }
   ],
   "source": [
    "values = input(\"Enter numbers comma separated = \")\n",
    "list_val = values.split(\",\")\n",
    "print(list_val)\n",
    "\n",
    "flag = False\n",
    "\n",
    "find_val = input(\"Enter value to find in list = \")\n",
    "\n",
    "for x in list_val:\n",
    "    if x == find_val:\n",
    "        flag = True\n",
    "\n",
    "if flag == True:\n",
    "    print(f\"{find_val} is in the list\")\n",
    "else:\n",
    "    print(f\"{find_val} is not in the list\")"
   ]
  },
  {
   "cell_type": "markdown",
   "id": "4f86a2e5",
   "metadata": {},
   "source": [
    "Exercise 25. Write a Python program to create a histogram from a given list of integers."
   ]
  },
  {
   "cell_type": "code",
   "execution_count": 91,
   "id": "a5612b71",
   "metadata": {},
   "outputs": [
    {
     "name": "stdout",
     "output_type": "stream",
     "text": [
      "@@\n",
      "@@@\n",
      "@@@@@@\n",
      "@@@@@\n",
      "@@@@@@@@@@\n"
     ]
    }
   ],
   "source": [
    "char_to_print = '@'\n",
    "format_of_histogram = [2,3,6,5,10]\n",
    "\n",
    "for x in format_of_histogram:\n",
    "    for y in range(x):\n",
    "        print('@', end=\"\")\n",
    "    print(\"\")"
   ]
  },
  {
   "cell_type": "markdown",
   "id": "7b52136c",
   "metadata": {},
   "source": [
    "Exercise 26. Write a Python program that concatenates all elements in a list into a string and returns it."
   ]
  },
  {
   "cell_type": "code",
   "execution_count": 93,
   "id": "32f5046f",
   "metadata": {},
   "outputs": [
    {
     "name": "stdout",
     "output_type": "stream",
     "text": [
      "Enter values comma separated = 23,as,robin,43.5\n",
      "['23', 'as', 'robin', '43.5']\n",
      "Concatenated string from list of values =  23asrobin43.5\n"
     ]
    }
   ],
   "source": [
    "values = input(\"Enter values comma separated = \")\n",
    "list_val = values.split(\",\")\n",
    "print(list_val)\n",
    "\n",
    "concat = \"\"\n",
    "\n",
    "for x in list_val:\n",
    "    concat += x\n",
    "\n",
    "print(\"Concatenated string from list of values = \", concat)"
   ]
  },
  {
   "cell_type": "markdown",
   "id": "4a642289",
   "metadata": {},
   "source": [
    "Exercise 27. Write a Python program to print all even numbers from a given list of numbers in the same order and stop printing any after 237 in the sequence.\n",
    "Sample numbers list :\n",
    "\n",
    "numbers = [    \n",
    "    386, 462, 47, 418, 907, 344, 236, 375, 823, 566, 597, 978, 328, 615, 953, 345, \n",
    "    399, 162, 758, 219, 918, 237, 412, 566, 826, 248, 866, 950, 626, 949, 687, 217, \n",
    "    815, 67, 104, 58, 512, 24, 892, 894, 767, 553, 81, 379, 843, 831, 445, 742, 717, \n",
    "    958,743, 527\n",
    "    ]"
   ]
  },
  {
   "cell_type": "code",
   "execution_count": 103,
   "id": "4c995616",
   "metadata": {},
   "outputs": [
    {
     "name": "stdout",
     "output_type": "stream",
     "text": [
      "386,462,418,344,236,566,978,328,162,758,918,"
     ]
    }
   ],
   "source": [
    "numbers = [386, 462, 47, 418, 907, 344, 236, 375, 823, 566, 597, 978, 328, 615, 953, 345, 399, 162, 758, 219, 918, 237, 412, 566, 826, 248, 866, 950, 626, 949, 687, 217, 815, 67, 104, 58, 512, 24, 892, 894, 767, 553, 81, 379, 843, 831, 445, 742, 717, 958,743, 527]\n",
    "\n",
    "for x in numbers:\n",
    "    if x != 237:\n",
    "        if x % 2 == 0:\n",
    "            print(x, end=\",\")\n",
    "    else:\n",
    "        break"
   ]
  },
  {
   "cell_type": "markdown",
   "id": "05804122",
   "metadata": {},
   "source": [
    "Exercise 28. Write a Python program that prints out all colors from color_list_1 that are not present in color_list_2.\n",
    "Test Data :\n",
    "color_list_1 = set([\"White\", \"Black\", \"Red\"])\n",
    "color_list_2 = set([\"Red\", \"Green\"])\n",
    "Expected Output :\n",
    "{'Black', 'White'}"
   ]
  },
  {
   "cell_type": "code",
   "execution_count": 104,
   "id": "2b6503e8",
   "metadata": {},
   "outputs": [
    {
     "name": "stdout",
     "output_type": "stream",
     "text": [
      "{'Black', 'White'}\n"
     ]
    }
   ],
   "source": [
    "#creating 2 sets\n",
    "color_list_1 = {\"White\", \"Black\", \"Red\"}\n",
    "color_list_2 = {\"Red\", \"Green\"}\n",
    "\n",
    "print(color_list_1 - color_list_2) #use A-B formula for sets this will print set A by removing common elemtent that are in B"
   ]
  },
  {
   "cell_type": "markdown",
   "id": "55d1ad2b",
   "metadata": {},
   "source": [
    "Exercise 29. Write a Python program that will compute area of triangle."
   ]
  },
  {
   "cell_type": "code",
   "execution_count": 110,
   "id": "8c1429e0",
   "metadata": {},
   "outputs": [
    {
     "name": "stdout",
     "output_type": "stream",
     "text": [
      "----Area of Triangle----\n",
      "1. Calculate area by base and height of triangle\n",
      "2. Calculate area by 3 sides of triangle\n",
      "Enter your choice: 3\n",
      "Not a valid choice\n"
     ]
    }
   ],
   "source": [
    "import math\n",
    "\n",
    "def triangle_area(base, height):\n",
    "    area = (1/2) * base * height\n",
    "    print(\"Area of right angled triangle = \", area)\n",
    "\n",
    "\n",
    "def triangle_area_heron(side_a, side_b, side_c):\n",
    "    #Calculate the semi-perimeter\n",
    "    s = (side_a + side_b + side_c) / 2\n",
    "    \n",
    "    # Calculate the area using Heron's formula\n",
    "    area = math.sqrt(s * (s - side_a) * (s - side_b) * (s - side_c))\n",
    "    print(\"Area of right angled triangle = \", area)\n",
    "\n",
    "\n",
    "print(\"----Area of Triangle----\")\n",
    "print(\"1. Calculate area by base and height of triangle\")\n",
    "print(\"2. Calculate area by 3 sides of triangle\")\n",
    "choice = input(\"Enter your choice: \")\n",
    "\n",
    "if choice == '1':\n",
    "    b = float(input(\"Enter base of a triangle = \"))\n",
    "    ht = float(input(\"Enter height of a triangle = \"))\n",
    "    triangle_area(b, ht)\n",
    "elif choice == '2':\n",
    "    a = float(input(\"Enter side 1 of a triangle = \"))\n",
    "    b = float(input(\"Enter side 2 of a triangle = \"))\n",
    "    c = float(input(\"Enter side 3 of a triangle = \"))\n",
    "    triangle_area_heron(a, b, c)\n",
    "else:\n",
    "    print(\"Not a valid choice\")"
   ]
  },
  {
   "cell_type": "markdown",
   "id": "1189de31",
   "metadata": {},
   "source": [
    "Exercise 30. Write a Python program that computes the greatest common divisor (GCD) and least common multiple (LCM) of two positive integers."
   ]
  },
  {
   "cell_type": "code",
   "execution_count": 120,
   "id": "b4f62f54",
   "metadata": {},
   "outputs": [
    {
     "name": "stdout",
     "output_type": "stream",
     "text": [
      "Enter 1st positive integer = 60\n",
      "Enter 2nd positive integer = 90\n",
      "Greatest Common Divisor (GCD) =  30\n",
      "Least Common Multiple (LCM) =  180.0\n"
     ]
    }
   ],
   "source": [
    "num1 = int(input(\"Enter 1st positive integer = \"))\n",
    "num2 = int(input(\"Enter 2nd positive integer = \"))\n",
    "\n",
    "a = num1\n",
    "b = num2\n",
    "\n",
    "#finding GCD by Euclidean algorithm\n",
    "remainder = num2 % num1\n",
    "\n",
    "while remainder != 0:\n",
    "    num2 = num1\n",
    "    num1 = remainder\n",
    "    remainder = num2 % num1\n",
    "\n",
    "print(\"Greatest Common Divisor (GCD) = \", num1)\n",
    "print(\"Least Common Multiple (LCM) = \", ((a*b)/num1))"
   ]
  },
  {
   "cell_type": "markdown",
   "id": "26e34928",
   "metadata": {},
   "source": [
    "Exercise 31. Write a Python program to sum three given integers. However, if two values are equal, the sum will be zero."
   ]
  },
  {
   "cell_type": "code",
   "execution_count": 122,
   "id": "d6bb743b",
   "metadata": {},
   "outputs": [
    {
     "name": "stdout",
     "output_type": "stream",
     "text": [
      "Enter 1st number = 2\n",
      "Enter 2nd number = 2\n",
      "Enter 3rd number = 3\n",
      "Sum of three numbers =  0\n"
     ]
    }
   ],
   "source": [
    "a = int(input(\"Enter 1st number = \"))\n",
    "b = int(input(\"Enter 2nd number = \"))\n",
    "c = int(input(\"Enter 3rd number = \"))\n",
    "\n",
    "if a == b or b == c or a == c:\n",
    "    sum = 0\n",
    "else:\n",
    "    sum = a + b + c\n",
    "print(\"Sum of three numbers = \", sum)"
   ]
  },
  {
   "cell_type": "markdown",
   "id": "962f9e20",
   "metadata": {},
   "source": [
    "Exercise 32. Write a Python program to sum two given integers. However, if the sum is between 15 and 20 it will return 20."
   ]
  },
  {
   "cell_type": "code",
   "execution_count": 125,
   "id": "0acbcc99",
   "metadata": {},
   "outputs": [
    {
     "name": "stdout",
     "output_type": "stream",
     "text": [
      "Enter 1st number = 10\n",
      "Enter 2nd number = 5\n",
      "Sum is between 15 and 20 so it will return 20 as per the condition\n",
      "Sum =  20\n"
     ]
    }
   ],
   "source": [
    "def sum_of_numbers(a, b):\n",
    "    sum = a + b\n",
    "    if sum >= 15 and sum <= 20:\n",
    "        print(\"Sum is between 15 and 20 so it will return 20 as per the condition\")\n",
    "        return 20\n",
    "    else:\n",
    "        return sum\n",
    "\n",
    "\n",
    "num1 = int(input(\"Enter 1st number = \"))\n",
    "num2 = int(input(\"Enter 2nd number = \"))\n",
    "\n",
    "c = sum_of_numbers(num1, num2)\n",
    "print(\"Sum = \", c)"
   ]
  },
  {
   "cell_type": "markdown",
   "id": "391d1426",
   "metadata": {},
   "source": [
    "Exercise 33. Write a Python program that returns true if the two given integer values are equal or their sum or difference is 5."
   ]
  },
  {
   "cell_type": "code",
   "execution_count": 126,
   "id": "3a599d3d",
   "metadata": {},
   "outputs": [
    {
     "name": "stdout",
     "output_type": "stream",
     "text": [
      "True\n",
      "True\n",
      "True\n",
      "False\n"
     ]
    }
   ],
   "source": [
    "def check(a, b):\n",
    "    sum_of_numbers = a + b\n",
    "    difference = a - b\n",
    "    if a == b or sum_of_numbers == 5 or difference == 5:\n",
    "        return True\n",
    "    else:\n",
    "        return False\n",
    "\n",
    "\n",
    "print(check(2,3))\n",
    "print(check(2,2))\n",
    "print(check(9,4))\n",
    "print(check(3,4))"
   ]
  },
  {
   "cell_type": "markdown",
   "id": "17e621ae",
   "metadata": {},
   "source": [
    "Exercise 34. Write a Python program to add two objects if both objects are integers."
   ]
  },
  {
   "cell_type": "code",
   "execution_count": 127,
   "id": "1b0c2b19",
   "metadata": {},
   "outputs": [
    {
     "name": "stdout",
     "output_type": "stream",
     "text": [
      "30\n",
      "Values must be integers\n",
      "None\n",
      "Values must be integers\n",
      "None\n"
     ]
    }
   ],
   "source": [
    "def check_sum(a, b):\n",
    "    # Check if both 'a' and 'b' are integers using the 'isinstance' function.\n",
    "    if not(isinstance(a,int) and isinstance(b,int)):\n",
    "        print(\"Values must be integers\")\n",
    "    else:\n",
    "        return a+b\n",
    "\n",
    "\n",
    "print(check_sum(10,20)) #it returns sum as both inputs are integers\n",
    "print(check_sum('a',20)) #one is char and one is integer so it will not return sum as per the condition\n",
    "print(check_sum(16,21.3)) #one is integer and one is float so it will not return sum as per the condition"
   ]
  },
  {
   "cell_type": "markdown",
   "id": "ed3c6cfa",
   "metadata": {},
   "source": [
    "Exercise 35. Write a Python program that displays your name, age, and address on three different lines."
   ]
  },
  {
   "cell_type": "code",
   "execution_count": 133,
   "id": "a9d76e8a",
   "metadata": {},
   "outputs": [
    {
     "name": "stdout",
     "output_type": "stream",
     "text": [
      "Name: Robin \n",
      "Age: 23 \n",
      "Address: House no. 34, \n",
      "    near Baga Beach,\n",
      "    Goa\n",
      "    \n"
     ]
    }
   ],
   "source": [
    "def personal_details():\n",
    "    name, age = \"Robin\", 23\n",
    "    address = \"\"\"House no. 34, \n",
    "    near Baga Beach,\n",
    "    Goa\n",
    "    \"\"\"\n",
    "    print(\"Name: {} \\nAge: {} \\nAddress: {}\".format(name, age, address))\n",
    "\n",
    "\n",
    "personal_details()"
   ]
  },
  {
   "cell_type": "markdown",
   "id": "e75d4e7d",
   "metadata": {},
   "source": [
    "Exercise 36. Write a Python program to solve (x + y) * (x + y).\n",
    "Test Data : x = 4, y = 3\n",
    "Expected Output : (4 + 3) ^ 2) = 49"
   ]
  },
  {
   "cell_type": "code",
   "execution_count": 134,
   "id": "50192d83",
   "metadata": {},
   "outputs": [
    {
     "name": "stdout",
     "output_type": "stream",
     "text": [
      "49\n"
     ]
    }
   ],
   "source": [
    "def do_sum(x, y):\n",
    "    result = (x + y)**2\n",
    "    return result\n",
    "\n",
    "\n",
    "print(do_sum(4,3))"
   ]
  },
  {
   "cell_type": "markdown",
   "id": "b9906520",
   "metadata": {},
   "source": [
    "Exercise 37. Write a Python program to compute the future value of a specified principal amount, rate of interest, and number of years."
   ]
  },
  {
   "cell_type": "code",
   "execution_count": 136,
   "id": "46823700",
   "metadata": {},
   "outputs": [
    {
     "name": "stdout",
     "output_type": "stream",
     "text": [
      "Enter Pricipal Amount = 20000\n",
      "Enter rate of interest (e.g. 6.3) value in percentage without % sign = 7\n",
      "Enter time in decimal years = 13\n",
      "--Menu--\n",
      "1. Simple Interest\n",
      "2. Compound Interest\n",
      "Select any one option: 2\n",
      "Enter number of times that interest is compounded per year = 12\n",
      "CI =  49555.2586698431\n"
     ]
    }
   ],
   "source": [
    "def simple_interest(p, R, t):\n",
    "    \"\"\" \n",
    "    Args:\n",
    "        principal (float): P - The principal amount.\n",
    "        rate (float): r - The annual interest rate (in decimal).\n",
    "        time (float): t - The time the money is invested for, in years.\n",
    "    \"\"\"\n",
    "    r = R/100 #R is Annual nominal interest rate as a percent\n",
    "    si = p * r * t\n",
    "    return si\n",
    "\n",
    "\n",
    "def compund_interest(p, R, t, n):\n",
    "    \"\"\"\n",
    "    Args:\n",
    "        principal (float): p - The principal amount.\n",
    "        rate (float): r - The annual interest rate (in decimal).\n",
    "        time (float): t - The time the money is invested for, in years.\n",
    "        compounding_periods_per_year (int): n - The number of times that interest is compounded per year.\n",
    "    \"\"\"\n",
    "    r = R/100 #R is Annual nominal interest rate as a percent\n",
    "    ci = p * (1 + (r/n))**(n*t)\n",
    "    return ci\n",
    "\n",
    "principal = float(input(\"Enter Pricipal Amount = \"))\n",
    "rate = float(input(\"Enter rate of interest (e.g. 6.3) value in percentage without % sign = \"))\n",
    "time = float(input(\"Enter time in decimal years = \"))\n",
    "    \n",
    "print(\"--Menu--\")\n",
    "print(\"1. Simple Interest\")\n",
    "print(\"2. Compound Interest\")\n",
    "choice = input(\"Select any one option: \")\n",
    "\n",
    "if choice == '1':\n",
    "    print(\"SI = \", simple_interest(principal, rate, time))\n",
    "elif choice == '2':\n",
    "    compounding_periods_per_year = int(input(\"Enter number of times that interest is compounded per year = \"))\n",
    "    print(\"CI = \",compund_interest(principal, rate, time, compounding_periods_per_year))\n",
    "else:\n",
    "    print(\"Invalid choice\")\n",
    "    "
   ]
  },
  {
   "cell_type": "markdown",
   "id": "a4452e0e",
   "metadata": {},
   "source": [
    "Exercise 38. Write a Python program to calculate the distance between the points (x1, y1) and (x2, y2).\n",
    "d=√((x2 – x1)² + (y2 – y1)²)"
   ]
  },
  {
   "cell_type": "code",
   "execution_count": 143,
   "id": "1678c4c3",
   "metadata": {},
   "outputs": [
    {
     "name": "stdout",
     "output_type": "stream",
     "text": [
      "Enter 2 coordinates of point1 - comma separated = 10,40\n",
      "Point1 =  ( 10 ,  40 )\n",
      "Enter 2 coordinates of point2 - comma separated = 50,67\n",
      "Point2 =  ( 50 ,  67 )\n",
      "Distance between two points =  34.48187929913333\n"
     ]
    }
   ],
   "source": [
    "import math\n",
    "\n",
    "x1,x2 = input(\"Enter 2 coordinates of point1 - comma separated = \").split(\",\")\n",
    "print(\"Point1 = \",\"(\",x1.strip(), \", \",x2.strip(),\")\")\n",
    "\n",
    "y1,y2 = input(\"Enter 2 coordinates of point2 - comma separated = \").split(\",\")\n",
    "print(\"Point2 = \",\"(\",y1.strip(), \", \",y2.strip(),\")\")\n",
    "\n",
    "distance = math.sqrt((int(x2)-int(x1))**2 + (int(y2)-int(y1))**2)\n",
    "\n",
    "print(\"Distance between two points = \", distance)"
   ]
  },
  {
   "cell_type": "markdown",
   "id": "06edec8e",
   "metadata": {},
   "source": [
    "Exercise 39. Write a Python program to check whether a file exists."
   ]
  },
  {
   "cell_type": "code",
   "execution_count": 146,
   "id": "19708863",
   "metadata": {},
   "outputs": [
    {
     "name": "stdout",
     "output_type": "stream",
     "text": [
      "True\n",
      "False\n"
     ]
    }
   ],
   "source": [
    "# Import the os.path module to work with file and directory paths.\n",
    "import os.path\n",
    "\n",
    "# Check if hello_script.py is a file in this following directory and print the result.\n",
    "print(os.path.isfile(\"C://Users//Surabhi//Desktop//My_Journey_to_Data Scientist//1_Python//1_Basic//hello_script.py\"))\n",
    "\n",
    "# Check if 'main.py' is a file and print the result.\n",
    "print(os.path.isfile('main.py'))"
   ]
  },
  {
   "cell_type": "markdown",
   "id": "9d5c74d1",
   "metadata": {},
   "source": [
    "Exercise 40. Write a Python program to get OS name, platform and release information."
   ]
  },
  {
   "cell_type": "code",
   "execution_count": 148,
   "id": "7ba5fb6b",
   "metadata": {},
   "outputs": [
    {
     "name": "stdout",
     "output_type": "stream",
     "text": [
      "Name of the operating system:  nt\n",
      "Windows\n",
      "10\n"
     ]
    }
   ],
   "source": [
    "import platform\n",
    "import os\n",
    "\n",
    "# 'os.name' provides the name of the operating system dependent module imported.\n",
    "print(\"Name of the operating system: \", os.name)\n",
    "# 'platform.system()' returns the name of the operating system\n",
    "print(platform.system())\n",
    "# 'platform.release()' returns the version or release of the operating system.\n",
    "print(platform.release())"
   ]
  },
  {
   "cell_type": "markdown",
   "id": "21cffaa8",
   "metadata": {},
   "source": [
    "Exercise 41. Write a Python program to locate Python site packages."
   ]
  },
  {
   "cell_type": "code",
   "execution_count": 150,
   "id": "8ad07cce",
   "metadata": {},
   "outputs": [
    {
     "name": "stdout",
     "output_type": "stream",
     "text": [
      "['C:\\\\Users\\\\Surabhi\\\\anaconda3', 'C:\\\\Users\\\\Surabhi\\\\anaconda3\\\\Lib\\\\site-packages']\n",
      "C:\\Users\\Surabhi\\AppData\\Roaming\\Python\\Python311\\site-packages\n"
     ]
    }
   ],
   "source": [
    "import site\n",
    "\n",
    "\"\"\"By calling print(site.getsitepackages()), the code will print a list of these paths to the console output. \n",
    "This can be useful for understanding where Python packages are installed on a particular system, \n",
    "which can be important for managing dependencies in Python projects.\n",
    "\"\"\"\n",
    "\n",
    "print(site.getsitepackages()) # 'site.getsitepackages()' returns a list of paths where site packages are installed.\n",
    "print(site.getusersitepackages())"
   ]
  },
  {
   "cell_type": "markdown",
   "id": "91a08ec0",
   "metadata": {},
   "source": [
    "Exercise 42. Write a Python program to find out the number of CPUs used."
   ]
  },
  {
   "cell_type": "code",
   "execution_count": 154,
   "id": "329ed8a3",
   "metadata": {},
   "outputs": [
    {
     "name": "stdout",
     "output_type": "stream",
     "text": [
      "12\n"
     ]
    }
   ],
   "source": [
    "# Import the 'multiprocessing' module to work with multi-processing features.\n",
    "import multiprocessing\n",
    "\n",
    "# Use 'multiprocessing.cpu_count()' to determine the number of available CPU cores.\n",
    "cpu_count = multiprocessing.cpu_count()\n",
    "\n",
    "# Print the number of CPU cores available on the system.\n",
    "print(cpu_count)"
   ]
  },
  {
   "cell_type": "markdown",
   "id": "06620373",
   "metadata": {},
   "source": [
    "Exercise 43. Write a Python program to parse a string to float or integer."
   ]
  },
  {
   "cell_type": "code",
   "execution_count": 157,
   "id": "e45dcfd4",
   "metadata": {},
   "outputs": [
    {
     "name": "stdout",
     "output_type": "stream",
     "text": [
      "11.23\n",
      "11\n"
     ]
    }
   ],
   "source": [
    "str1 = \"11.23\"\n",
    "\n",
    "print(float(str1)) #converting datatype from string to float\n",
    "\n",
    "print(int(float(str1))) #converting float to int"
   ]
  },
  {
   "cell_type": "markdown",
   "id": "6e01a160",
   "metadata": {},
   "source": [
    "Exercise 44. Print pattern (right angled triangle)."
   ]
  },
  {
   "cell_type": "code",
   "execution_count": 18,
   "id": "3235c6d4",
   "metadata": {},
   "outputs": [
    {
     "name": "stdout",
     "output_type": "stream",
     "text": [
      "\n",
      "*\n",
      "**\n",
      "***\n",
      "****\n",
      "*****\n"
     ]
    }
   ],
   "source": [
    "for i in range(6):\n",
    "    for j in range(i):\n",
    "        print(\"*\", end=\"\")\n",
    "    print(\"\")"
   ]
  },
  {
   "cell_type": "markdown",
   "id": "fa2b2f70",
   "metadata": {},
   "source": [
    "Exercise 45. Print pattern (mirror image of right angled triangle)."
   ]
  },
  {
   "cell_type": "code",
   "execution_count": 17,
   "id": "5f5ec74d",
   "metadata": {},
   "outputs": [
    {
     "name": "stdout",
     "output_type": "stream",
     "text": [
      "Enter any number = 5\n",
      "    *\n",
      "   **\n",
      "  ***\n",
      " ****\n",
      "*****\n"
     ]
    }
   ],
   "source": [
    "n = int(input(\"Enter any number = \"))\n",
    "temp = n\n",
    "\n",
    "for i in range(n):\n",
    "    j = 1\n",
    "    while j < temp:\n",
    "        print(\" \", end=\"\")\n",
    "        j = j + 1\n",
    "    k = j\n",
    "    while k <= n:\n",
    "        print(\"*\", end=\"\")\n",
    "        k = k + 1\n",
    "    print(\"\")\n",
    "    temp = temp - 1\n",
    "   "
   ]
  },
  {
   "cell_type": "markdown",
   "id": "1cfe2872",
   "metadata": {},
   "source": [
    "Exercise 46. Print pattern (upside down right angled triangle)."
   ]
  },
  {
   "cell_type": "code",
   "execution_count": 19,
   "id": "1049538d",
   "metadata": {},
   "outputs": [
    {
     "name": "stdout",
     "output_type": "stream",
     "text": [
      "Enter any number = 5\n",
      "*****\n",
      "****\n",
      "***\n",
      "**\n",
      "*\n"
     ]
    }
   ],
   "source": [
    "n = int(input(\"Enter any number = \"))\n",
    "temp = n\n",
    "\n",
    "for i in range(n):\n",
    "    for j in range(temp):\n",
    "        print(\"*\", end=\"\")\n",
    "    print(\"\")\n",
    "    temp = temp - 1"
   ]
  },
  {
   "cell_type": "markdown",
   "id": "ae360d90",
   "metadata": {},
   "source": [
    "Exercise 47. Print pattern (pyramid 1)."
   ]
  },
  {
   "cell_type": "code",
   "execution_count": 129,
   "id": "09b18de2",
   "metadata": {},
   "outputs": [
    {
     "name": "stdout",
     "output_type": "stream",
     "text": [
      "Enter any number = 5\n",
      "* * * * * \n",
      " * * * * \n",
      "  * * * \n",
      "   * * \n",
      "    * \n",
      "     "
     ]
    }
   ],
   "source": [
    "n = int(input(\"Enter any number = \"))\n",
    "temp = n\n",
    "\n",
    "for i in range(n):\n",
    "    for j in range(temp):\n",
    "        print(\"*\", end=\" \")\n",
    "    print(\"\")\n",
    "    k = 0\n",
    "    while k <= i:\n",
    "        print(\" \", end=\"\")\n",
    "        k = k + 1\n",
    "    temp = temp - 1"
   ]
  },
  {
   "cell_type": "markdown",
   "id": "5358241c",
   "metadata": {},
   "source": [
    "Exercise 48. Print pattern (pyramid 2)."
   ]
  },
  {
   "cell_type": "code",
   "execution_count": 128,
   "id": "5dc27354",
   "metadata": {
    "scrolled": false
   },
   "outputs": [
    {
     "name": "stdout",
     "output_type": "stream",
     "text": [
      "Enter any number = 5\n",
      "      * \n",
      "     * * \n",
      "    * * * \n",
      "   * * * * \n",
      "  * * * * * \n"
     ]
    }
   ],
   "source": [
    "import math\n",
    "\n",
    "n = int(input(\"Enter any number = \")) #5\n",
    "num = n\n",
    "k = math.ceil(n/2) #3\n",
    "temp = k\n",
    "\n",
    "for i in range(1,n+1):\n",
    "    if i % 2 != 0:\n",
    "        for j in range(temp):\n",
    "            print(\" \", end=\" \")\n",
    "        while j < k:\n",
    "            print(\"*\", end=\" \")\n",
    "            j += 1\n",
    "        print(\"\")\n",
    "        temp -= 1\n",
    "        k += 1 \n",
    "    elif i % 2 == 0:\n",
    "        for j in range(num):\n",
    "            print(\" \", end=\"\")\n",
    "        while j <= n:\n",
    "            print(\"*\", end=\" \")\n",
    "            j = j+1\n",
    "        print(\"\")\n",
    "        num -= 2"
   ]
  },
  {
   "cell_type": "markdown",
   "id": "2d22a90b",
   "metadata": {},
   "source": [
    "Exercise 49. Python program to interchange first and last elements in a list"
   ]
  },
  {
   "cell_type": "code",
   "execution_count": 144,
   "id": "8ffcc033",
   "metadata": {},
   "outputs": [
    {
     "name": "stdout",
     "output_type": "stream",
     "text": [
      "Before swapping list = \n",
      "[2, 3, 4, 5]\n",
      "After swapping list = \n",
      "[5, 3, 4, 2]\n"
     ]
    }
   ],
   "source": [
    "list_val = [2,3,4,5]\n",
    "\n",
    "print(\"Before swapping list = \")\n",
    "print(list_val)\n",
    "\n",
    "temp = list_val[0]\n",
    "list_val[0] = list_val[-1]\n",
    "list_val[-1] = temp\n",
    "\n",
    "print(\"After swapping list = \")\n",
    "print(list_val)\n"
   ]
  },
  {
   "cell_type": "markdown",
   "id": "5a274bbb",
   "metadata": {},
   "source": [
    "Exercise 50. Python program to print Fibonacci Series (e.g. 1, 1, 2, 3, 5, 8, 13, …)"
   ]
  },
  {
   "cell_type": "code",
   "execution_count": 3,
   "id": "3a631e68",
   "metadata": {},
   "outputs": [
    {
     "name": "stdout",
     "output_type": "stream",
     "text": [
      "Enter how many Fibonnaci numbers do you want to generate = 20\n",
      "1 , 1,  2,  3,  5,  8,  13,  21,  34,  55,  89,  144,  233,  377,  610,  987,  1597,  2584,  4181,  6765,  10946,  17711\n"
     ]
    }
   ],
   "source": [
    "def fibonacci_series(n):\n",
    "    n1 = 1\n",
    "    n2 = 1\n",
    "    print(n1, \",\", n2, end=\"\")\n",
    "    for i in range(n):\n",
    "        fibonacci_sum = n1 + n2\n",
    "        n1 = n2\n",
    "        n2 = fibonacci_sum\n",
    "        print(\", \", fibonacci_sum, end=\"\")\n",
    "    print(\"\")\n",
    "\n",
    "num = int(input(\"Enter how many Fibonnaci numbers do you want to generate = \"))\n",
    "fibonacci_series(num)"
   ]
  }
 ],
 "metadata": {
  "kernelspec": {
   "display_name": "Python 3 (ipykernel)",
   "language": "python",
   "name": "python3"
  },
  "language_info": {
   "codemirror_mode": {
    "name": "ipython",
    "version": 3
   },
   "file_extension": ".py",
   "mimetype": "text/x-python",
   "name": "python",
   "nbconvert_exporter": "python",
   "pygments_lexer": "ipython3",
   "version": "3.11.5"
  }
 },
 "nbformat": 4,
 "nbformat_minor": 5
}
